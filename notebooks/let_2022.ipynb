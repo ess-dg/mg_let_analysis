{
 "cells": [
  {
   "cell_type": "markdown",
   "id": "aca8c3f0-9bf3-48ea-9e35-96e8cb1f96a7",
   "metadata": {},
   "source": [
    "<font size=\"5\">\n",
    "\n",
    "# Multi-Grid measurements at LET, 2022\n",
    "    \n",
    "  "
   ]
  },
  {
   "cell_type": "markdown",
   "id": "a1e5cada-dd62-460e-a9e5-7008fef58e95",
   "metadata": {},
   "source": [
    "> __Author:__ A. Backis\n",
    "<br/>__Institute:__ University of Glasgow (UoG), European Spallation Source (ESS)\n",
    "    \n",
    "> __Author:__ R. Wahlén\n",
    "<br/>__Institute:__ Lund University (LU), European Spallation Source (ESS)\n",
    "\n",
    ">__Date:__ 7/4-2022\n",
    "    \n",
    "_Abstract:_\n",
    "This notebook contains the data-analysis tools used for the measurements at the LET instrument at ISIS. It describes how the analysis was performed, and summarizes the results."
   ]
  },
  {
   "cell_type": "markdown",
   "id": "b30b23a8-979a-478d-9cc1-3ef7464fa33a",
   "metadata": {},
   "source": [
    "# Contents\n",
    "    \n",
    "* [1. Introduction](#INTRODUCTION)\n",
    "    * [1.1 Packages](#PACKAGES)\n",
    "    * [1.2 Parameters](#PARAMETERS)\n",
    "* [2. STF](#STF)"
   ]
  },
  {
   "cell_type": "markdown",
   "id": "27bcdaac-1ebc-4c15-9de6-7bfaed2641be",
   "metadata": {},
   "source": [
    "# 1. Introduction<a class=\"anchor\" id=\"INTRODUCTION\"></a>"
   ]
  },
  {
   "cell_type": "markdown",
   "id": "6f0c229c-3890-4a78-8faa-54689bfde312",
   "metadata": {},
   "source": [
    "Notebook showing the analysis of the LET measurements."
   ]
  },
  {
   "cell_type": "markdown",
   "id": "b547800a-eb13-451d-a6d6-60b1996741eb",
   "metadata": {},
   "source": [
    "## 1.1 Packages<a class=\"anchor\" id=\"PACKAGES\"></a>"
   ]
  },
  {
   "cell_type": "markdown",
   "id": "92c8e548-a59d-4d66-91b6-2b597f9ef4d8",
   "metadata": {},
   "source": [
    "Import required packages."
   ]
  },
  {
   "cell_type": "code",
   "execution_count": null,
   "id": "c69e8a50-bdcf-4ecd-b81c-7eca1f935446",
   "metadata": {},
   "outputs": [],
   "source": [
    "# Autoload packages when doing an external change\n",
    "%load_ext autoreload\n",
    "%autoreload 2\n",
    "\n",
    "# Activate matplotlib in interactive notebook mode\n",
    "%matplotlib widget\n",
    "\n",
    "# General packages\n",
    "import os\n",
    "import sys\n",
    "import numpy as np\n",
    "import pandas as pd\n",
    "import matplotlib.pyplot as plt\n",
    "\n",
    "# Ensure custom packages can be reached\n",
    "module_path = os.path.abspath(os.path.join('..'))\n",
    "if module_path not in sys.path:\n",
    "    sys.path.append(module_path)\n",
    "\n",
    "# Local packages\n",
    "import file_handling.he3_read as he3_read\n",
    "import file_handling.bm_read as bm_read\n",
    "import file_handling.mg_ref.mg_ref_read as mg_read\n",
    "import file_handling.mg_ref.mg_ref_manage as mg_manage\n",
    "\n",
    "import plotting.mg_ref_basic_plot as mg_basic_plot\n",
    "import plotting.he3_basic_plot as he3_basic_plot\n",
    "import plotting.bm_basic_plot as bm_basic_plot\n",
    "import plotting.lineshape as lineshape\n",
    "import plotting.common_plot as cmnplt"
   ]
  },
  {
   "cell_type": "markdown",
   "id": "639434d6-16a9-4272-812f-91ab2915e92a",
   "metadata": {},
   "source": [
    "## 1.2 Parameters<a class=\"anchor\" id=\"PARAMETERS\"></a>"
   ]
  },
  {
   "cell_type": "markdown",
   "id": "a6dd315f-471a-4b44-88d7-3d426edb22cf",
   "metadata": {},
   "source": [
    "Define global parameters."
   ]
  },
  {
   "cell_type": "code",
   "execution_count": null,
   "id": "2c052f8a-550e-49e3-9093-1501fe5d3ae1",
   "metadata": {},
   "outputs": [],
   "source": [
    "# Instrument definition\n",
    "MODERATOR_TO_SAMPLE_IN_M = 25\n",
    "\n",
    "# Paths to folders containing data\n",
    "nb_path = os.getcwd()\n",
    "MG_RAW_FOLDER = nb_path + '/../data/mg/ref/raw/'\n",
    "MG_PROCESSED_FOLDER = nb_path + '/../data/mg/ref/processed/'\n",
    "HE3_FOLDER = nb_path + '/../data/he3/'\n",
    "\n",
    "# Filter for Multi-Grid detector\n",
    "mg_filter = {'wm': [1, 1, False],                   # Wire multiplicity\n",
    "             'gm': [1, 5, False],                   # Grid multiplicity\n",
    "             'wadc': [600, np.inf, False],          # Wire charge\n",
    "             'gadc': [600, np.inf, False],          # Grid charge\n",
    "             'tof': [0, np.inf, False],             # Time-of-flight (TDC channels)\n",
    "             'time': [0, np.inf, False],            # Time (TDC channels)\n",
    "             'bus': [2, 3, False],                  # Bus\n",
    "             'layer': [0, 19, False],              # Layer, front=0 to back=19\n",
    "             'row': [0, 11, False],                # Row, right to left (seen from neutrons)\n",
    "             'gch': [81, 118, False]}               # Grid channel, bottom=96 to top=132\n",
    "\n",
    "# Filter for Helium-3 tubes\n",
    "pixels = []\n",
    "start_pixel = 38400+1 # As the Multi-Grid detector is elevated a few centimeters from the ground\n",
    "height = 58\n",
    "diff_tubes = 256\n",
    "number_tubes = 32\n",
    "number_rows = 4\n",
    "for i in np.arange(0, number_rows, 1):\n",
    "    start = start_pixel+diff_tubes*i\n",
    "    stop = start_pixel+diff_tubes*i + height\n",
    "    for j in np.arange(start, stop):\n",
    "        pixels.append(j)\n",
    "region_of_interest = np.array(pixels)\n",
    "\n",
    "region_edges = np.zeros(5, dtype='int')\n",
    "region_edges[0] = region_of_interest[0]\n",
    "region_edges[1] = region_of_interest[height-1]\n",
    "region_edges[2] = region_of_interest[number_rows*height-1]\n",
    "region_edges[3] = region_of_interest[number_rows*height-height]\n",
    "region_edges[4] = region_of_interest[0]"
   ]
  },
  {
   "cell_type": "markdown",
   "id": "94deec8c-e05e-48c1-8504-2688cc1f684d",
   "metadata": {},
   "source": [
    "## 2. STF<a class=\"anchor\" id=\"STF\"></a>"
   ]
  },
  {
   "cell_type": "markdown",
   "id": "f4e35f0e-0d43-4742-a04f-d53711c3344b",
   "metadata": {},
   "source": [
    "Test data set taken with an AmBe source in the source-testing facility."
   ]
  },
  {
   "cell_type": "code",
   "execution_count": null,
   "id": "752c8ce7-14ee-43ce-9e19-197da08772f9",
   "metadata": {},
   "outputs": [],
   "source": [
    "# Declare file name\n",
    "file_name = 'CSPEC-LET_STF_Test_220405_165718_Th6'\n",
    "raw_path = MG_RAW_FOLDER + file_name + '.zip'\n",
    "# Declare area\n",
    "mg_area = 0.025*0.025*6*37\n",
    "# Extract and save (only has to be done once)\n",
    "#mg_manage.extract_and_save(file_name, MG_RAW_FOLDER, MG_PROCESSED_FOLDER)\n",
    "# Load data\n",
    "#clu, ev = mg_manage.load_clusters_and_events(file_name, MG_PROCESSED_FOLDER)\n",
    "# Filter data\n",
    "#clu_f = mg_manage.filter_data(clu, mg_filter)\n",
    "# Plot data\n",
    "mg_basic_plot.mg_plot_basic_bus(file_name, 9, clu, ev, mg_filter, mg_area, file_name)"
   ]
  },
  {
   "cell_type": "markdown",
   "id": "e157c7e2-806f-4412-b837-6210bef01157",
   "metadata": {},
   "source": [
    "## 3. Mapping test<a class=\"anchor\" id=\"MAPPING_TEST\"></a>"
   ]
  },
  {
   "cell_type": "code",
   "execution_count": null,
   "id": "57828ab7-24ee-406e-83c0-1eaede2f2e6e",
   "metadata": {},
   "outputs": [],
   "source": [
    "# Helium-3 data\n",
    "he3_file_name = 'LET00068153'\n",
    "he3_path = HE3_FOLDER + he3_file_name + '.nxs'\n",
    "he3_mapping = he3_read.get_pixel_to_xyz_mapping(he3_path)\n",
    "df_he3_run = he3_read.import_data(he3_path)\n",
    "# Multi-Grid data\n",
    "mg_file_name = 'CSPEC-LET_STF_Test_220405_165718_Th6'\n",
    "df_mg, __ = mg_manage.load_clusters_and_events(mg_file_name, MG_PROCESSED_FOLDER)\n",
    "# Plot Helium-3 histogram\n",
    "he3_basic_plot.he3_plot_3D_histogram(df_he3_run, he3_mapping, region_edges=region_edges)\n",
    "# Plot Multi-Grid histogram\n",
    "mg_basic_plot.clusters_3d_plot(clu[clu.bus == 9], file_name)\n",
    "# Plot Helium-3 + Multi-Grid\n",
    "mg_offset = {'x': -1.5, 'y': -1, 'z': 2.9}\n",
    "mg_theta = -60 * np.pi/180\n",
    "cmnplt.plot_mg_and_he3_3d(df_mg[df_mg.bus == 9], df_he3_run, he3_mapping, mg_offset, mg_theta, region_edges=region_edges)"
   ]
  }
 ],
 "metadata": {
  "kernelspec": {
   "display_name": "Python 3",
   "language": "python",
   "name": "python3"
  },
  "language_info": {
   "codemirror_mode": {
    "name": "ipython",
    "version": 3
   },
   "file_extension": ".py",
   "mimetype": "text/x-python",
   "name": "python",
   "nbconvert_exporter": "python",
   "pygments_lexer": "ipython3",
   "version": "3.8.8"
  }
 },
 "nbformat": 4,
 "nbformat_minor": 5
}
